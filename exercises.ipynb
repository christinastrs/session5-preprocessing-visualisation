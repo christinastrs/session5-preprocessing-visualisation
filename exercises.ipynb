{
 "cells": [
  {
   "cell_type": "markdown",
   "metadata": {},
   "source": [
    "# In-class exercises\n",
    "\n",
    "Load in the merged trials datafile from the lecture. Try to do some additional analyses, and make some more plots, using this data! For instance (but feel free to try other things if you have ideas):\n",
    "\n",
    "- First aggregate per participant. Use this data to recreate the plots we saw before (using seaborn and/or plotnine). What's different, and why?\n",
    "- Try to use .pivot() from pandas to create a dataframe with one row for each participant, and a mean reaction time column for each condition. (see https://pandas.pydata.org/docs/user_guide/reshaping.html) What are the advantages/disadvantages of having your data in this format? Try to use seaborn and/or plotnine to draw a boxplot again. Why is it more difficult now?\n",
    "- Using seaborn and plotnine, try to use facets/subplots to create boxplots both per participant and condition (so 3x10 = 30 boxes in total).\n",
    "- Use seaborn and/or plotnine to create a violin plot!"
   ]
  },
  {
   "cell_type": "code",
   "execution_count": 1,
   "metadata": {},
   "outputs": [],
   "source": [
    "import pandas as pd \n",
    "import numpy as np \n",
    "\n",
    "from matplotlib import pyplot as plt    \n",
    "import seaborn as sns\n",
    "import plotnine as gg #basically ggplot implemented in python \n",
    "from plotnine import ggplot "
   ]
  },
  {
   "cell_type": "code",
   "execution_count": 2,
   "metadata": {},
   "outputs": [
    {
     "name": "stderr",
     "output_type": "stream",
     "text": [
      "C:\\Users\\Christina Papoutsi\\AppData\\Local\\Temp\\ipykernel_4796\\351099288.py:5: FutureWarning: The frame.append method is deprecated and will be removed from pandas in a future version. Use pandas.concat instead.\n",
      "C:\\Users\\Christina Papoutsi\\AppData\\Local\\Temp\\ipykernel_4796\\351099288.py:5: FutureWarning: The frame.append method is deprecated and will be removed from pandas in a future version. Use pandas.concat instead.\n",
      "C:\\Users\\Christina Papoutsi\\AppData\\Local\\Temp\\ipykernel_4796\\351099288.py:5: FutureWarning: The frame.append method is deprecated and will be removed from pandas in a future version. Use pandas.concat instead.\n",
      "C:\\Users\\Christina Papoutsi\\AppData\\Local\\Temp\\ipykernel_4796\\351099288.py:5: FutureWarning: The frame.append method is deprecated and will be removed from pandas in a future version. Use pandas.concat instead.\n",
      "C:\\Users\\Christina Papoutsi\\AppData\\Local\\Temp\\ipykernel_4796\\351099288.py:5: FutureWarning: The frame.append method is deprecated and will be removed from pandas in a future version. Use pandas.concat instead.\n",
      "C:\\Users\\Christina Papoutsi\\AppData\\Local\\Temp\\ipykernel_4796\\351099288.py:5: FutureWarning: The frame.append method is deprecated and will be removed from pandas in a future version. Use pandas.concat instead.\n",
      "C:\\Users\\Christina Papoutsi\\AppData\\Local\\Temp\\ipykernel_4796\\351099288.py:5: FutureWarning: The frame.append method is deprecated and will be removed from pandas in a future version. Use pandas.concat instead.\n",
      "C:\\Users\\Christina Papoutsi\\AppData\\Local\\Temp\\ipykernel_4796\\351099288.py:5: FutureWarning: The frame.append method is deprecated and will be removed from pandas in a future version. Use pandas.concat instead.\n",
      "C:\\Users\\Christina Papoutsi\\AppData\\Local\\Temp\\ipykernel_4796\\351099288.py:5: FutureWarning: The frame.append method is deprecated and will be removed from pandas in a future version. Use pandas.concat instead.\n",
      "C:\\Users\\Christina Papoutsi\\AppData\\Local\\Temp\\ipykernel_4796\\351099288.py:5: FutureWarning: The frame.append method is deprecated and will be removed from pandas in a future version. Use pandas.concat instead.\n"
     ]
    }
   ],
   "source": [
    "participants = pd.read_csv(\"participants.csv\")\n",
    "trials = pd.DataFrame()\n",
    "for participant_id in participants['id']:\n",
    "    participant_data = pd.read_csv(f'participants/{participant_id}.csv')\n",
    "    trials = trials.append(participant_data) #I have a problem with the append() function \n",
    "trials\n",
    "\n",
    "trials.rename(columns={'Unnamed: 0': 'trial_order'}, inplace= True)\n",
    "trials.to_csv('trials.csv', index = False) #remove the index from the df\n"
   ]
  },
  {
   "cell_type": "code",
   "execution_count": 3,
   "metadata": {},
   "outputs": [
    {
     "data": {
      "text/html": [
       "<div>\n",
       "<style scoped>\n",
       "    .dataframe tbody tr th:only-of-type {\n",
       "        vertical-align: middle;\n",
       "    }\n",
       "\n",
       "    .dataframe tbody tr th {\n",
       "        vertical-align: top;\n",
       "    }\n",
       "\n",
       "    .dataframe thead th {\n",
       "        text-align: right;\n",
       "    }\n",
       "</style>\n",
       "<table border=\"1\" class=\"dataframe\">\n",
       "  <thead>\n",
       "    <tr style=\"text-align: right;\">\n",
       "      <th></th>\n",
       "      <th>id</th>\n",
       "      <th>mean_RT</th>\n",
       "      <th>std_RT</th>\n",
       "      <th>age</th>\n",
       "    </tr>\n",
       "  </thead>\n",
       "  <tbody>\n",
       "    <tr>\n",
       "      <th>0</th>\n",
       "      <td>18045</td>\n",
       "      <td>481.933278</td>\n",
       "      <td>288.642016</td>\n",
       "      <td>18.0</td>\n",
       "    </tr>\n",
       "    <tr>\n",
       "      <th>1</th>\n",
       "      <td>29185</td>\n",
       "      <td>735.664829</td>\n",
       "      <td>450.815922</td>\n",
       "      <td>20.0</td>\n",
       "    </tr>\n",
       "    <tr>\n",
       "      <th>2</th>\n",
       "      <td>30917</td>\n",
       "      <td>357.286818</td>\n",
       "      <td>207.501049</td>\n",
       "      <td>27.0</td>\n",
       "    </tr>\n",
       "    <tr>\n",
       "      <th>3</th>\n",
       "      <td>39833</td>\n",
       "      <td>499.984697</td>\n",
       "      <td>342.146332</td>\n",
       "      <td>28.0</td>\n",
       "    </tr>\n",
       "    <tr>\n",
       "      <th>4</th>\n",
       "      <td>52826</td>\n",
       "      <td>380.812642</td>\n",
       "      <td>231.231605</td>\n",
       "      <td>33.0</td>\n",
       "    </tr>\n",
       "    <tr>\n",
       "      <th>5</th>\n",
       "      <td>54916</td>\n",
       "      <td>415.126416</td>\n",
       "      <td>208.590380</td>\n",
       "      <td>28.0</td>\n",
       "    </tr>\n",
       "    <tr>\n",
       "      <th>6</th>\n",
       "      <td>76798</td>\n",
       "      <td>483.566373</td>\n",
       "      <td>273.962894</td>\n",
       "      <td>22.0</td>\n",
       "    </tr>\n",
       "    <tr>\n",
       "      <th>7</th>\n",
       "      <td>83630</td>\n",
       "      <td>406.750626</td>\n",
       "      <td>237.038035</td>\n",
       "      <td>18.0</td>\n",
       "    </tr>\n",
       "    <tr>\n",
       "      <th>8</th>\n",
       "      <td>91033</td>\n",
       "      <td>424.164878</td>\n",
       "      <td>220.646411</td>\n",
       "      <td>25.0</td>\n",
       "    </tr>\n",
       "    <tr>\n",
       "      <th>9</th>\n",
       "      <td>91930</td>\n",
       "      <td>533.448513</td>\n",
       "      <td>310.988834</td>\n",
       "      <td>29.0</td>\n",
       "    </tr>\n",
       "  </tbody>\n",
       "</table>\n",
       "</div>"
      ],
      "text/plain": [
       "      id     mean_RT      std_RT   age\n",
       "0  18045  481.933278  288.642016  18.0\n",
       "1  29185  735.664829  450.815922  20.0\n",
       "2  30917  357.286818  207.501049  27.0\n",
       "3  39833  499.984697  342.146332  28.0\n",
       "4  52826  380.812642  231.231605  33.0\n",
       "5  54916  415.126416  208.590380  28.0\n",
       "6  76798  483.566373  273.962894  22.0\n",
       "7  83630  406.750626  237.038035  18.0\n",
       "8  91033  424.164878  220.646411  25.0\n",
       "9  91930  533.448513  310.988834  29.0"
      ]
     },
     "execution_count": 3,
     "metadata": {},
     "output_type": "execute_result"
    }
   ],
   "source": [
    "participants = pd.read_csv('participants.csv')\n",
    "trials = pd.read_csv('trials.csv')\n",
    "# trials\n",
    "\n",
    "\n",
    "merged = trials.merge(participants, on = 'id')\n",
    "merged\n",
    "\n",
    "# trials.groupby(by = 'condition'). describe() #aggregate data over variables -- this is nice if you want to have a look at your data \n",
    "summary = merged.groupby(by ='id').aggregate(\n",
    "    mean_RT = pd.NamedAgg('RT', np.mean),\n",
    "    std_RT = pd.NamedAgg('RT', np.std), \n",
    "    age = pd.NamedAgg('age', np.mean)\n",
    ")\n",
    "summary.reset_index(inplace = True)\n",
    "\n",
    "summary"
   ]
  },
  {
   "cell_type": "code",
   "execution_count": 4,
   "metadata": {},
   "outputs": [
    {
     "data": {
      "image/png": "[encoded data removed]",
      "text/plain": [
       "<Figure size 432x288 with 1 Axes>"
      ]
     },
     "metadata": {
      "needs_background": "light"
     },
     "output_type": "display_data"
    },
    {
     "data": {
      "image/png": "[encoded data removed]",
      "text/plain": [
       "<Figure size 432x288 with 1 Axes>"
      ]
     },
     "metadata": {
      "needs_background": "light"
     },
     "output_type": "display_data"
    }
   ],
   "source": [
    "# First aggregate per participant. Use this data to recreate the plots we saw before (using seaborn and/or plotnine). What's different, and why?\n",
    "\n",
    "# trials.groupby(by = 'condition'). describe() #aggregate data over variables -- this is nice if you want to have a look at your data \n",
    "summary = merged.groupby(by ='id').aggregate(\n",
    "    mean_RT = pd.NamedAgg('RT', np.mean),\n",
    "    std_RT = pd.NamedAgg('RT', np.std), \n",
    "    age = pd.NamedAgg('age', np.mean)\n",
    ")\n",
    "summary.reset_index(inplace = True)\n",
    "\n",
    "summary\n",
    "\n",
    "\n",
    "plt.figure()\n",
    "plt.bar(summary['id'], summary['mean_RT'])\n",
    "plt.errorbar(summary['id'], summary['mean_RT'], summary['std_RT'], fmt = 'k.')\n",
    "plt.show()\n",
    "\n",
    "\n",
    "\n",
    "sns.boxplot(x = 'id', y='RT', hue = 'condition', data = trials)\n",
    "plt.show()\n"
   ]
  },
  {
   "cell_type": "code",
   "execution_count": 5,
   "metadata": {},
   "outputs": [
    {
     "ename": "NameError",
     "evalue": "name 'df' is not defined",
     "output_type": "error",
     "traceback": [
      "\u001b[1;31m---------------------------------------------------------------------------\u001b[0m",
      "\u001b[1;31mNameError\u001b[0m                                 Traceback (most recent call last)",
      "\u001b[1;32mc:\\Users\\Christina Papoutsi\\IMPRS-Python-course-session1\\session5-preprocessing-visualisation\\session5-preprocessing-visualisation\\exercises.ipynb Cell 6'\u001b[0m in \u001b[0;36m<cell line: 6>\u001b[1;34m()\u001b[0m\n\u001b[0;32m      <a href='vscode-notebook-cell:/c%3A/Users/Christina%20Papoutsi/IMPRS-Python-course-session1/session5-preprocessing-visualisation/session5-preprocessing-visualisation/exercises.ipynb#ch0000005?line=0'>1</a>\u001b[0m \u001b[39m# - Try to use .pivot() from pandas to create a dataframe with one row for each participant, and a mean reaction time column for each condition. \u001b[39;00m\n\u001b[0;32m      <a href='vscode-notebook-cell:/c%3A/Users/Christina%20Papoutsi/IMPRS-Python-course-session1/session5-preprocessing-visualisation/session5-preprocessing-visualisation/exercises.ipynb#ch0000005?line=1'>2</a>\u001b[0m \u001b[39m# (see https://pandas.pydata.org/docs/user_guide/reshaping.html) What are the advantages/disadvantages of having your data in this format? \u001b[39;00m\n\u001b[0;32m      <a href='vscode-notebook-cell:/c%3A/Users/Christina%20Papoutsi/IMPRS-Python-course-session1/session5-preprocessing-visualisation/session5-preprocessing-visualisation/exercises.ipynb#ch0000005?line=2'>3</a>\u001b[0m \u001b[39m# Try to use seaborn and/or plotnine to draw a boxplot again. Why is it more difficult now?\u001b[39;00m\n\u001b[1;32m----> <a href='vscode-notebook-cell:/c%3A/Users/Christina%20Papoutsi/IMPRS-Python-course-session1/session5-preprocessing-visualisation/session5-preprocessing-visualisation/exercises.ipynb#ch0000005?line=5'>6</a>\u001b[0m pivoted \u001b[39m=\u001b[39m df\u001b[39m.\u001b[39mpivot_table(index \u001b[39m=\u001b[39m \u001b[39m'\u001b[39m\u001b[39mRT\u001b[39m\u001b[39m'\u001b[39m,\n\u001b[0;32m      <a href='vscode-notebook-cell:/c%3A/Users/Christina%20Papoutsi/IMPRS-Python-course-session1/session5-preprocessing-visualisation/session5-preprocessing-visualisation/exercises.ipynb#ch0000005?line=6'>7</a>\u001b[0m columns \u001b[39m=\u001b[39m \u001b[39m'\u001b[39m\u001b[39mcondition\u001b[39m\u001b[39m'\u001b[39m,\n\u001b[0;32m      <a href='vscode-notebook-cell:/c%3A/Users/Christina%20Papoutsi/IMPRS-Python-course-session1/session5-preprocessing-visualisation/session5-preprocessing-visualisation/exercises.ipynb#ch0000005?line=7'>8</a>\u001b[0m values \u001b[39m=\u001b[39m   \u001b[39m'\u001b[39m\u001b[39mid\u001b[39m\u001b[39m'\u001b[39m)\n\u001b[0;32m     <a href='vscode-notebook-cell:/c%3A/Users/Christina%20Papoutsi/IMPRS-Python-course-session1/session5-preprocessing-visualisation/session5-preprocessing-visualisation/exercises.ipynb#ch0000005?line=9'>10</a>\u001b[0m pivoted\n",
      "\u001b[1;31mNameError\u001b[0m: name 'df' is not defined"
     ]
    }
   ],
   "source": [
    "# - Try to use .pivot() from pandas to create a dataframe with one row for each participant, and a mean reaction time column for each condition. \n",
    "# (see https://pandas.pydata.org/docs/user_guide/reshaping.html) What are the advantages/disadvantages of having your data in this format? \n",
    "# Try to use seaborn and/or plotnine to draw a boxplot again. Why is it more difficult now?\n",
    "\n",
    "\n",
    "pivoted = df.pivot_table(index = 'RT',\n",
    "columns = 'condition',\n",
    "values =   'id')\n",
    "\n",
    "pivoted \n",
    "\n"
   ]
  },
  {
   "cell_type": "code",
   "execution_count": null,
   "metadata": {},
   "outputs": [],
   "source": [
    "# - Using seaborn and plotnine, try to use facets/subplots to create boxplots both per participant and condition (so 3x10 = 30 boxes in total).\n"
   ]
  },
  {
   "cell_type": "code",
   "execution_count": null,
   "metadata": {},
   "outputs": [],
   "source": [
    "# - Use seaborn and/or plotnine to create a violin plot!"
   ]
  }
 ],
 "metadata": {
  "interpreter": {
   "hash": "63fd5069d213b44bf678585dea6b12cceca9941eaf7f819626cde1f2670de90d"
  },
  "kernelspec": {
   "display_name": "Python 3.9.1 64-bit",
   "language": "python",
   "name": "python3"
  },
  "language_info": {
   "codemirror_mode": {
    "name": "ipython",
    "version": 3
   },
   "file_extension": ".py",
   "mimetype": "text/x-python",
   "name": "python",
   "nbconvert_exporter": "python",
   "pygments_lexer": "ipython3",
   "version": "3.9.1"
  },
  "orig_nbformat": 4
 },
 "nbformat": 4,
 "nbformat_minor": 2
}
